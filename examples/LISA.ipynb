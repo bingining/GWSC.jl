{
 "cells": [
  {
   "cell_type": "markdown",
   "metadata": {},
   "source": [
    "### File path of transer function for LISA should be fixed in the future version!"
   ]
  },
  {
   "cell_type": "code",
   "execution_count": 1,
   "metadata": {},
   "outputs": [
    {
     "name": "stderr",
     "output_type": "stream",
     "text": [
      "┌ Info: Recompiling stale cache file /home/hi/.julia/compiled/v1.1/GWSC/HpzGr.ji for GWSC [13605eb4-7e26-11e9-1115-f51d9e886ef4]\n",
      "└ @ Base loading.jl:1184\n",
      "┌ Warning: The call to compilecache failed to create a usable precompiled cache file for GWSC [13605eb4-7e26-11e9-1115-f51d9e886ef4]\n",
      "│   exception = ErrorException(\"Required dependency PyPlot [d330b81b-6aea-500a-939a-2ce795aea3ee] failed to load from a cache file.\")\n",
      "└ @ Base loading.jl:969\n",
      "┌ Info: Recompiling stale cache file /home/hi/.julia/compiled/v1.1/PyPlot/oatAj.ji for PyPlot [d330b81b-6aea-500a-939a-2ce795aea3ee]\n",
      "└ @ Base loading.jl:1184\n"
     ]
    },
    {
     "ename": "ArgumentError",
     "evalue": "ArgumentError: Cannot open 'RLISA.txt': not a file",
     "output_type": "error",
     "traceback": [
      "ArgumentError: Cannot open 'RLISA.txt': not a file",
      "",
      "Stacktrace:",
      " [1] #readdlm_auto#9(::Base.Iterators.Pairs{Union{},Union{},Tuple{},NamedTuple{(),Tuple{}}}, ::Function, ::String, ::Char, ::Type, ::Char, ::Bool) at /buildworker/worker/package_linux64/build/usr/share/julia/stdlib/v1.1/DelimitedFiles/src/DelimitedFiles.jl:233",
      " [2] readdlm_auto at /buildworker/worker/package_linux64/build/usr/share/julia/stdlib/v1.1/DelimitedFiles/src/DelimitedFiles.jl:233 [inlined]",
      " [3] #readdlm#5 at /buildworker/worker/package_linux64/build/usr/share/julia/stdlib/v1.1/DelimitedFiles/src/DelimitedFiles.jl:172 [inlined]",
      " [4] readdlm at /buildworker/worker/package_linux64/build/usr/share/julia/stdlib/v1.1/DelimitedFiles/src/DelimitedFiles.jl:172 [inlined]",
      " [5] #readdlm#3 at /buildworker/worker/package_linux64/build/usr/share/julia/stdlib/v1.1/DelimitedFiles/src/DelimitedFiles.jl:118 [inlined]",
      " [6] readdlm at /buildworker/worker/package_linux64/build/usr/share/julia/stdlib/v1.1/DelimitedFiles/src/DelimitedFiles.jl:118 [inlined]",
      " [7] #RLISA#3(::Bool, ::Function, ::Float64, ::Int64) at /home/hi/project/GWSC/src/LISA/LISA.jl:25",
      " [8] #RLISA at ./none:0 [inlined]",
      " [9] #LISA#8 at /home/hi/project/GWSC/src/LISA/LISA.jl:169 [inlined]",
      " [10] LISA() at /home/hi/project/GWSC/src/LISA/LISA.jl:168",
      " [11] top-level scope at In[1]:2"
     ]
    }
   ],
   "source": [
    "using GWSC, PyPlot\n",
    "lisa = LISA();\n",
    "\n",
    "lisa1 = LISA(approRQ=true);"
   ]
  },
  {
   "cell_type": "markdown",
   "metadata": {},
   "source": [
    "## Figure 2 "
   ]
  },
  {
   "cell_type": "code",
   "execution_count": 2,
   "metadata": {},
   "outputs": [
    {
     "ename": "UndefVarError",
     "evalue": "UndefVarError: lisa not defined",
     "output_type": "error",
     "traceback": [
      "UndefVarError: lisa not defined",
      "",
      "Stacktrace:",
      " [1] top-level scope at In[2]:2"
     ]
    }
   ],
   "source": [
    "f = 10 .^ (-5:0.001:0)\n",
    "R = lisa.R.(f)\n",
    "R1 = lisa1.R.(f)\n",
    "\n",
    "loglog(f, R)\n",
    "loglog(f, R1)\n",
    "\n",
    "legend([\"numerical\", \"fit\"])\n",
    "xlabel(\"Frequency (Hz)\")\n",
    "ylabel(\"R \")\n",
    "show()"
   ]
  },
  {
   "cell_type": "markdown",
   "metadata": {},
   "source": [
    "## Figure 3"
   ]
  },
  {
   "cell_type": "code",
   "execution_count": 3,
   "metadata": {},
   "outputs": [
    {
     "ename": "UndefVarError",
     "evalue": "UndefVarError: lisa not defined",
     "output_type": "error",
     "traceback": [
      "UndefVarError: lisa not defined",
      "",
      "Stacktrace:",
      " [1] top-level scope at In[3]:1"
     ]
    }
   ],
   "source": [
    "plotSpectralDensity(lisa, plotPn=true)"
   ]
  },
  {
   "cell_type": "markdown",
   "metadata": {},
   "source": [
    "## Figure 4"
   ]
  },
  {
   "cell_type": "code",
   "execution_count": 4,
   "metadata": {},
   "outputs": [
    {
     "ename": "UndefVarError",
     "evalue": "UndefVarError: lisa not defined",
     "output_type": "error",
     "traceback": [
      "UndefVarError: lisa not defined",
      "",
      "Stacktrace:",
      " [1] top-level scope at In[4]:1"
     ]
    }
   ],
   "source": [
    "plotSpectralDensity(lisa, plotSnC=true)"
   ]
  },
  {
   "cell_type": "markdown",
   "metadata": {},
   "source": [
    "## Figure 8"
   ]
  },
  {
   "cell_type": "code",
   "execution_count": 5,
   "metadata": {},
   "outputs": [
    {
     "ename": "UndefVarError",
     "evalue": "UndefVarError: lisa not defined",
     "output_type": "error",
     "traceback": [
      "UndefVarError: lisa not defined",
      "",
      "Stacktrace:",
      " [1] top-level scope at In[5]:1"
     ]
    }
   ],
   "source": [
    "plotCharacteristicStrain(lisa, plotSn=true)"
   ]
  },
  {
   "cell_type": "markdown",
   "metadata": {},
   "source": [
    "## Power-law integrated curve"
   ]
  },
  {
   "cell_type": "code",
   "execution_count": 6,
   "metadata": {},
   "outputs": [
    {
     "ename": "UndefVarError",
     "evalue": "UndefVarError: lisa not defined",
     "output_type": "error",
     "traceback": [
      "UndefVarError: lisa not defined",
      "",
      "Stacktrace:",
      " [1] top-level scope at util.jl:156",
      " [2] top-level scope at In[6]:1"
     ]
    }
   ],
   "source": [
    "@time plotΩPI(lisa, plotΩeff=true, plotΩPILines=true)"
   ]
  },
  {
   "cell_type": "code",
   "execution_count": null,
   "metadata": {},
   "outputs": [],
   "source": []
  }
 ],
 "metadata": {
  "@webio": {
   "lastCommId": null,
   "lastKernelId": null
  },
  "kernelspec": {
   "display_name": "Julia 1.1.0",
   "language": "julia",
   "name": "julia-1.1"
  },
  "language_info": {
   "file_extension": ".jl",
   "mimetype": "application/julia",
   "name": "julia",
   "version": "1.1.0"
  }
 },
 "nbformat": 4,
 "nbformat_minor": 2
}
