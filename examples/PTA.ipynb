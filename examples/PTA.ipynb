{
 "cells": [
  {
   "cell_type": "code",
   "execution_count": 1,
   "metadata": {},
   "outputs": [
    {
     "name": "stderr",
     "output_type": "stream",
     "text": [
      "┌ Info: Recompiling stale cache file /home/hi/.julia/compiled/v1.1/GWSC/HpzGr.ji for GWSC [13605eb4-7e26-11e9-1115-f51d9e886ef4]\n",
      "└ @ Base loading.jl:1184\n",
      "┌ Warning: The call to compilecache failed to create a usable precompiled cache file for PyPlot [d330b81b-6aea-500a-939a-2ce795aea3ee]\n",
      "│   exception =\n",
      "│    Cache file \"/home/hi/.julia/compiled/v1.1/PyPlot/oatAj.ji\" not found.\n",
      "│    \n",
      "└ @ Base loading.jl:969\n",
      "┌ Warning: The call to compilecache failed to create a usable precompiled cache file for GWSC [13605eb4-7e26-11e9-1115-f51d9e886ef4]\n",
      "│   exception = ErrorException(\"Invalid input in module list: expected PyPlot.\")\n",
      "└ @ Base loading.jl:969\n",
      "┌ Info: Recompiling stale cache file /home/hi/.julia/compiled/v1.1/PyPlot/oatAj.ji for PyPlot [d330b81b-6aea-500a-939a-2ce795aea3ee]\n",
      "└ @ Base loading.jl:1184\n"
     ]
    }
   ],
   "source": [
    "using GWSC"
   ]
  },
  {
   "cell_type": "markdown",
   "metadata": {},
   "source": [
    "## General Plots"
   ]
  },
  {
   "cell_type": "code",
   "execution_count": null,
   "metadata": {},
   "outputs": [],
   "source": [
    "pta1 = PTA(Δt=YEAR/20);\n",
    "\n",
    "@time plotΩPI(pta1, plotΩeffQ=true, plotΩPILinesQ=true)"
   ]
  },
  {
   "cell_type": "code",
   "execution_count": null,
   "metadata": {},
   "outputs": [],
   "source": [
    "pta2 = PTA(Δt=14*DAY, σRMS=1e2, NP=36, TObs=1.);\n",
    "@time plotΩPI(pta2, plotΩeffQ=true, plotΩPILinesQ=true,\n",
    "    ΩPlotRange=(1e-9, 1e-4))"
   ]
  },
  {
   "cell_type": "markdown",
   "metadata": {},
   "source": [
    "## IPTA"
   ]
  },
  {
   "cell_type": "code",
   "execution_count": null,
   "metadata": {},
   "outputs": [],
   "source": [
    "ipta = PTA(NP=36, σRMS=1e2, TObs=20.);"
   ]
  },
  {
   "cell_type": "code",
   "execution_count": null,
   "metadata": {},
   "outputs": [],
   "source": [
    "@time plotΩPI(ipta, plotΩeffQ=true, plotΩPILinesQ=true, \n",
    "    ΩPlotRange=(1e-15, 1e-8))"
   ]
  },
  {
   "cell_type": "code",
   "execution_count": null,
   "metadata": {},
   "outputs": [],
   "source": [
    "@time plotΩPI(ipta, ΩPlotRange=(1e-15, 1e-8))"
   ]
  },
  {
   "cell_type": "markdown",
   "metadata": {},
   "source": [
    "## FAST"
   ]
  },
  {
   "cell_type": "code",
   "execution_count": null,
   "metadata": {},
   "outputs": [],
   "source": [
    "fast = PTA(NP=50, σRMS=5e1, TObs=50.);"
   ]
  },
  {
   "cell_type": "code",
   "execution_count": null,
   "metadata": {},
   "outputs": [],
   "source": [
    "@time plotΩPI(fast, plotΩeffQ=true, plotΩPILinesQ=true, \n",
    "    ΩPlotRange=(1e-18, 1e-10))"
   ]
  },
  {
   "cell_type": "code",
   "execution_count": null,
   "metadata": {},
   "outputs": [],
   "source": [
    "@time plotΩPI(fast, ΩPlotRange=(1e-18, 1e-10))"
   ]
  },
  {
   "cell_type": "markdown",
   "metadata": {},
   "source": [
    "## SKA"
   ]
  },
  {
   "cell_type": "code",
   "execution_count": null,
   "metadata": {},
   "outputs": [],
   "source": [
    "ska = PTA(NP=100, σRMS=2e1, TObs=100.);"
   ]
  },
  {
   "cell_type": "code",
   "execution_count": null,
   "metadata": {},
   "outputs": [],
   "source": [
    "@time plotΩPI(ska, plotΩeffQ=true, plotΩPILinesQ=true, \n",
    "    ΩPlotRange=(1e-20, 1e-12))"
   ]
  },
  {
   "cell_type": "code",
   "execution_count": null,
   "metadata": {},
   "outputs": [],
   "source": [
    "@time plotΩPI(ska, ΩPlotRange=(1e-20, 1e-12))"
   ]
  },
  {
   "cell_type": "code",
   "execution_count": null,
   "metadata": {},
   "outputs": [],
   "source": []
  }
 ],
 "metadata": {
  "@webio": {
   "lastCommId": null,
   "lastKernelId": null
  },
  "kernelspec": {
   "display_name": "Julia 1.1.0",
   "language": "julia",
   "name": "julia-1.1"
  },
  "language_info": {
   "file_extension": ".jl",
   "mimetype": "application/julia",
   "name": "julia",
   "version": "1.1.0"
  }
 },
 "nbformat": 4,
 "nbformat_minor": 2
}
